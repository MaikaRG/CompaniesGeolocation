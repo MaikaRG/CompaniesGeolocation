{
 "cells": [
  {
   "cell_type": "markdown",
   "metadata": {},
   "source": [
    "# COMPANIES GEOSPACIAL LOCATION"
   ]
  },
  {
   "cell_type": "markdown",
   "metadata": {},
   "source": [
    "You recently created a new company in the `GAMING industry`. The company will have the following scheme:\n",
    "\n",
    "- 20 Designers\n",
    "- 5 UI/UX Engineers\n",
    "- 10 Frontend Developers\n",
    "- 15 Data Engineers\n",
    "- 5 Backend Developers\n",
    "- 20 Account Managers\n",
    "- 1 Maintenance guy that loves basketball\n",
    "- 10 Executives\n",
    "- 1 CEO/President"
   ]
  },
  {
   "cell_type": "markdown",
   "metadata": {},
   "source": [
    "As a data engineer you have asked all the employees to show their preferences on where to place the new office.\n",
    "Your goal is to place the **new company offices** in the best place for the company to grow.\n",
    "You have to found a place that more or less covers all the following requirements.\n",
    "Note that **it's impossible to cover all requirements**, so you have to prioritize at your glance.\n",
    "\n",
    "- Designers like to go to design talks and share knowledge. There must be some nearby companies that also do design.\n",
    "- 30% of the company have at least 1 child.\n",
    "- Developers like to be near successful tech startups that have raised at least 1 Million dollars.\n",
    "- Executives like Starbucks A LOT. Ensure there's a starbucks not to far.\n",
    "- Account managers need to travel a lot\n",
    "- All people in the company have between 25 and 40 years, give them some place to go to party.\n",
    "- Nobody in the company likes to have companies with more than 10 years in a radius of 2 KM.\n",
    "- The CEO is Vegan\n"
   ]
  },
  {
   "cell_type": "code",
   "execution_count": 14,
   "metadata": {},
   "outputs": [],
   "source": [
    "import json"
   ]
  },
  {
   "cell_type": "code",
   "execution_count": 7,
   "metadata": {},
   "outputs": [],
   "source": [
    "from pymongo import MongoClient"
   ]
  },
  {
   "cell_type": "code",
   "execution_count": 8,
   "metadata": {},
   "outputs": [],
   "source": [
    "def connectCollection(database, collection):\n",
    "    client = MongoClient()\n",
    "    db = client[database]\n",
    "    coll = db[collection]\n",
    "    return db, coll"
   ]
  },
  {
   "cell_type": "code",
   "execution_count": 9,
   "metadata": {},
   "outputs": [],
   "source": [
    "db, coll = connectCollection('companies','companies')"
   ]
  },
  {
   "cell_type": "code",
   "execution_count": 9,
   "metadata": {},
   "outputs": [
    {
     "data": {
      "text/plain": [
       "(Database(MongoClient(host=['localhost:27017'], document_class=dict, tz_aware=False, connect=True), 'companies'),\n",
       " Collection(Database(MongoClient(host=['localhost:27017'], document_class=dict, tz_aware=False, connect=True), 'companies'), 'companies'))"
      ]
     },
     "execution_count": 9,
     "metadata": {},
     "output_type": "execute_result"
    }
   ],
   "source": [
    "db, coll"
   ]
  },
  {
   "cell_type": "code",
   "execution_count": 10,
   "metadata": {},
   "outputs": [],
   "source": [
    "firstFilter = list(coll.find({'$and':[{'founded_year':{'$gte':2009}},\n",
    "                               {'deadpooled_year':None},\n",
    "                               {'offices':{'$not': {'$size': 0}}},\n",
    "                               {'category_code':{'$regex':'design|web|gam|software|hardware'}}]}))"
   ]
  },
  {
   "cell_type": "code",
   "execution_count": 11,
   "metadata": {},
   "outputs": [
    {
     "data": {
      "text/plain": [
       "227"
      ]
     },
     "execution_count": 11,
     "metadata": {},
     "output_type": "execute_result"
    }
   ],
   "source": [
    "len(firstFilter)"
   ]
  },
  {
   "cell_type": "code",
   "execution_count": 13,
   "metadata": {},
   "outputs": [
    {
     "data": {
      "text/plain": [
       "1"
      ]
     },
     "execution_count": 13,
     "metadata": {},
     "output_type": "execute_result"
    }
   ],
   "source": [
    "len(firstFilter[0]['offices'])"
   ]
  },
  {
   "cell_type": "code",
   "execution_count": 14,
   "metadata": {},
   "outputs": [
    {
     "data": {
      "text/plain": [
       "[{'description': None,\n",
       "  'address1': None,\n",
       "  'address2': None,\n",
       "  'zip_code': None,\n",
       "  'city': None,\n",
       "  'state_code': None,\n",
       "  'country_code': 'USA',\n",
       "  'latitude': 37.09024,\n",
       "  'longitude': -95.712891}]"
      ]
     },
     "execution_count": 14,
     "metadata": {},
     "output_type": "execute_result"
    }
   ],
   "source": [
    "firstFilter[0]['offices']"
   ]
  },
  {
   "cell_type": "code",
   "execution_count": null,
   "metadata": {},
   "outputs": [],
   "source": [
    "longitude = firstFilter[0]['offices'][0]['longitude']\n",
    "print(longitude)\n",
    "latitude = firstFilter[0]['offices'][0]['latitude']\n",
    "latitude"
   ]
  },
  {
   "cell_type": "code",
   "execution_count": null,
   "metadata": {},
   "outputs": [],
   "source": [
    "def getLocation(office):\n",
    "    listaTop = []\n",
    "    for e in range(len(office['offices'])):\n",
    "        longitude = office['offices'][e]['longitude']\n",
    "        latitude = office['offices'][e]['latitude']\n",
    "        loc = {\n",
    "            'type':'Point',\n",
    "            'coordinates':[(longitude),(latitude)]\n",
    "        }\n",
    "        listaTop.append(loc)\n",
    "    return listaTop"
   ]
  },
  {
   "cell_type": "code",
   "execution_count": null,
   "metadata": {},
   "outputs": [],
   "source": [
    "getLocation(firstFilter[1])"
   ]
  },
  {
   "cell_type": "code",
   "execution_count": null,
   "metadata": {},
   "outputs": [],
   "source": [
    "import re\n",
    "cosa=[]\n",
    "cosa2=[]\n",
    "for e in firstFilter:\n",
    "    for i in range(len(e['offices'])):\n",
    "        if e['offices'][i]['latitude'] == None:\n",
    "            e['offices'][i]['city'] = re.sub('SetÃºbal|none','',e['offices'][i]['city'])\n",
    "            if e['offices'][i]['city'] and e['offices'][i]['address1']:\n",
    "                cosa.append(e['offices'][i]['address1'])\n",
    "                cosa2.append(e['offices'][i]['city'])\n",
    "print(cosa2)\n",
    "print(len(cosa2))\n",
    "cosa3=list(zip(cosa2,cosa))\n",
    "cosa3"
   ]
  },
  {
   "cell_type": "code",
   "execution_count": 11,
   "metadata": {},
   "outputs": [],
   "source": [
    "import requests\n",
    "\n",
    "def getCoordsFor(address,city):\n",
    "    url = f\"https://geocode.xyz/{address}+{city}?json=1\"\n",
    "    res = requests.get(url)\n",
    "    if res.status_code == 200:\n",
    "        print(res.url)\n",
    "        data = res.json()\n",
    "        return (data.get(\"latt\",0), data.get(\"longt\",0))\n",
    "    else:\n",
    "        raise ValueError(f\"Api returned {res.status_code}!=200\")"
   ]
  },
  {
   "cell_type": "code",
   "execution_count": 42,
   "metadata": {},
   "outputs": [
    {
     "name": "stdout",
     "output_type": "stream",
     "text": [
      "https://geocode.xyz/Padre%20Claret%207+Madrid?json=1\n"
     ]
    },
    {
     "data": {
      "text/plain": [
       "('40.44581', '-3.66500')"
      ]
     },
     "execution_count": 42,
     "metadata": {},
     "output_type": "execute_result"
    }
   ],
   "source": [
    "getCoordsFor('Padre Claret 7', 'Madrid')"
   ]
  },
  {
   "cell_type": "code",
   "execution_count": null,
   "metadata": {},
   "outputs": [],
   "source": [
    "for e in cosa3:\n",
    "    print(e)\n",
    "    getCoordsFor(e[1],e[0])"
   ]
  },
  {
   "cell_type": "code",
   "execution_count": null,
   "metadata": {},
   "outputs": [],
   "source": []
  },
  {
   "cell_type": "code",
   "execution_count": 33,
   "metadata": {},
   "outputs": [
    {
     "name": "stdout",
     "output_type": "stream",
     "text": [
      "https://geocode.xyz/Pl%20Can%20Suris%20s/n,%20Cornell%C3%A0%20de%20Llobregat?json=1\n",
      "https://geocode.xyz/Pl%20Can%20Suris%20s/n,%20Cornell%C3%A0%20de%20Llobregat?json=1\n",
      "https://geocode.xyz/Pl%20Can%20Suris%20s/n,%20Cornell%C3%A0%20de%20Llobregat?json=1\n",
      "https://geocode.xyz/Pl%20Can%20Suris%20s/n,%20Cornell%C3%A0%20de%20Llobregat?json=1\n",
      "https://geocode.xyz/Pl%20Can%20Suris%20s/n,%20Cornell%C3%A0%20de%20Llobregat?json=1\n",
      "https://geocode.xyz/Pl%20Can%20Suris%20s/n,%20Cornell%C3%A0%20de%20Llobregat?json=1\n",
      "https://geocode.xyz/Pl%20Can%20Suris%20s/n,%20Cornell%C3%A0%20de%20Llobregat?json=1\n",
      "https://geocode.xyz/Pl%20Can%20Suris%20s/n,%20Cornell%C3%A0%20de%20Llobregat?json=1\n",
      "https://geocode.xyz/Pl%20Can%20Suris%20s/n,%20Cornell%C3%A0%20de%20Llobregat?json=1\n",
      "https://geocode.xyz/Pl%20Can%20Suris%20s/n,%20Cornell%C3%A0%20de%20Llobregat?json=1\n",
      "https://geocode.xyz/Pl%20Can%20Suris%20s/n,%20Cornell%C3%A0%20de%20Llobregat?json=1\n",
      "https://geocode.xyz/Pl%20Can%20Suris%20s/n,%20Cornell%C3%A0%20de%20Llobregat?json=1\n",
      "https://geocode.xyz/Pl%20Can%20Suris%20s/n,%20Cornell%C3%A0%20de%20Llobregat?json=1\n",
      "https://geocode.xyz/Pl%20Can%20Suris%20s/n,%20Cornell%C3%A0%20de%20Llobregat?json=1\n",
      "https://geocode.xyz/Pl%20Can%20Suris%20s/n,%20Cornell%C3%A0%20de%20Llobregat?json=1\n",
      "https://geocode.xyz/Pl%20Can%20Suris%20s/n,%20Cornell%C3%A0%20de%20Llobregat?json=1\n",
      "https://geocode.xyz/Pl%20Can%20Suris%20s/n,%20Cornell%C3%A0%20de%20Llobregat?json=1\n",
      "https://geocode.xyz/Pl%20Can%20Suris%20s/n,%20Cornell%C3%A0%20de%20Llobregat?json=1\n",
      "https://geocode.xyz/Pl%20Can%20Suris%20s/n,%20Cornell%C3%A0%20de%20Llobregat?json=1\n",
      "https://geocode.xyz/Pl%20Can%20Suris%20s/n,%20Cornell%C3%A0%20de%20Llobregat?json=1\n",
      "https://geocode.xyz/Pl%20Can%20Suris%20s/n,%20Cornell%C3%A0%20de%20Llobregat?json=1\n",
      "https://geocode.xyz/Pl%20Can%20Suris%20s/n,%20Cornell%C3%A0%20de%20Llobregat?json=1\n",
      "https://geocode.xyz/Pl%20Can%20Suris%20s/n,%20Cornell%C3%A0%20de%20Llobregat?json=1\n",
      "https://geocode.xyz/Pl%20Can%20Suris%20s/n,%20Cornell%C3%A0%20de%20Llobregat?json=1\n",
      "https://geocode.xyz/Pl%20Can%20Suris%20s/n,%20Cornell%C3%A0%20de%20Llobregat?json=1\n"
     ]
    }
   ],
   "source": []
  },
  {
   "cell_type": "code",
   "execution_count": 12,
   "metadata": {},
   "outputs": [
    {
     "data": {
      "text/plain": [
       "260"
      ]
     },
     "execution_count": 12,
     "metadata": {},
     "output_type": "execute_result"
    }
   ],
   "source": [
    "from bson import json_util\n",
    "pipeline = [\n",
    "    {'$project':{'_id':0}},\n",
    "    {\"$unwind\": \"$offices\"},\n",
    "    {\"$match\":{\"$and\": [{\"founded_year\":{\"$gte\":2009}},\n",
    "            {'deadpooled_year':None},\n",
    "            {'category_code':{'$regex':'design|web|gam|software|hardware'}}]}}]\n",
    "a = list(coll.aggregate(pipeline))\n",
    "len(a)"
   ]
  },
  {
   "cell_type": "code",
   "execution_count": 433,
   "metadata": {},
   "outputs": [
    {
     "data": {
      "text/plain": [
       "str"
      ]
     },
     "execution_count": 433,
     "metadata": {},
     "output_type": "execute_result"
    }
   ],
   "source": [
    "h=list(map(lambda e: str(e),[a[e]['_id'] for e in range(len(a))]))\n"
   ]
  },
  {
   "cell_type": "code",
   "execution_count": 15,
   "metadata": {},
   "outputs": [],
   "source": [
    "with open('primerFiltro.json', 'w') as file:\n",
    "    json.dump(a,file,default=json_util.default)"
   ]
  },
  {
   "cell_type": "code",
   "execution_count": 109,
   "metadata": {},
   "outputs": [],
   "source": [
    "dbF, collF = connectCollection('getloc','primerfiltro')"
   ]
  },
  {
   "cell_type": "code",
   "execution_count": 110,
   "metadata": {},
   "outputs": [
    {
     "data": {
      "text/plain": [
       "33"
      ]
     },
     "execution_count": 110,
     "metadata": {},
     "output_type": "execute_result"
    }
   ],
   "source": [
    "filtroVacios = list(collF.find({'offices.latitude':None}))\n",
    "len(filtroVacios)"
   ]
  },
  {
   "cell_type": "code",
   "execution_count": 89,
   "metadata": {},
   "outputs": [
    {
     "name": "stdout",
     "output_type": "stream",
     "text": [
      "https://geocode.xyz/56,%20Arun%20Villa,%203rd%20Main+Bangalore?json=1\n"
     ]
    }
   ],
   "source": [
    "import re\n",
    "\n",
    "for e in range(len(filtroVacios)):\n",
    "    if filtroVacios[e]['offices']['latitude'] == None:\n",
    "        filtroVacios[e]['offices']['city'] = re.sub('SetÃºbal|none|#|,','',filtroVacios[e]['offices']['city'])\n",
    "        filtroVacios[e]['offices']['address1'] = re.sub('none|#','',filtroVacios[e]['offices']['address1'])\n",
    "        if filtroVacios[e]['offices']['city'] and filtroVacios[e]['offices']['address1']:\n",
    "            lat, lon = getCoordsFor(filtroVacios[e]['offices']['address1'],filtroVacios[e]['offices']['city'])\n",
    "            value = {\"$set\": {\n",
    "                                'offices.longitude': lon,\n",
    "                                'offices.latitude': lat\n",
    "                               }}\n",
    "            collF.update_one(filtroVacios[e],value)"
   ]
  },
  {
   "cell_type": "code",
   "execution_count": 149,
   "metadata": {},
   "outputs": [
    {
     "data": {
      "text/plain": [
       "227"
      ]
     },
     "execution_count": 149,
     "metadata": {},
     "output_type": "execute_result"
    }
   ],
   "source": [
    "filtroSinNoneLoc=list(collF.find({'offices.latitude':{'$ne':None}}))\n",
    "len(filtroSinNoneLoc)"
   ]
  },
  {
   "cell_type": "code",
   "execution_count": 153,
   "metadata": {},
   "outputs": [
    {
     "data": {
      "text/plain": [
       "227"
      ]
     },
     "execution_count": 153,
     "metadata": {},
     "output_type": "execute_result"
    }
   ],
   "source": [
    "filtroParaGeoIndex = [\n",
    "    {'$project':{'_id':0}},\n",
    "    {\"$match\":{'offices.latitude':{'$ne':None}}}]\n",
    "sinOID = list(collF.aggregate(filtroParaGeoIndex))\n",
    "len(sinOID)"
   ]
  },
  {
   "cell_type": "code",
   "execution_count": 156,
   "metadata": {},
   "outputs": [],
   "source": [
    "import json\n",
    "with open('listoGeoInd.json', 'w') as file:\n",
    "    json.dump(sinOID,file)"
   ]
  },
  {
   "cell_type": "code",
   "execution_count": 157,
   "metadata": {},
   "outputs": [],
   "source": [
    "dbG, collG = connectCollection('getlocation','listogeoindex')"
   ]
  },
  {
   "cell_type": "code",
   "execution_count": 168,
   "metadata": {},
   "outputs": [
    {
     "data": {
      "text/plain": [
       "{'_id': ObjectId('5dd52c0c1190473819cf6e9e'),\n",
       " 'name': 'Mokitown',\n",
       " 'permalink': 'mokitown',\n",
       " 'crunchbase_url': 'http://www.crunchbase.com/company/mokitown',\n",
       " 'homepage_url': 'http://www.mokitown.com',\n",
       " 'blog_url': '',\n",
       " 'blog_feed_url': '',\n",
       " 'twitter_username': '',\n",
       " 'category_code': 'web',\n",
       " 'number_of_employees': None,\n",
       " 'founded_year': 2011,\n",
       " 'founded_month': 11,\n",
       " 'founded_day': 26,\n",
       " 'deadpooled_year': None,\n",
       " 'deadpooled_month': None,\n",
       " 'deadpooled_day': None,\n",
       " 'deadpooled_url': None,\n",
       " 'tag_list': 'mokitown, virtualworld, crunchbase',\n",
       " 'alias_list': '',\n",
       " 'email_address': '',\n",
       " 'phone_number': '',\n",
       " 'description': '',\n",
       " 'created_at': 'Tue Aug 07 05:47:56 UTC 2007',\n",
       " 'updated_at': 'Tue Mar 19 01:07:12 UTC 2013',\n",
       " 'overview': '<p>Mokitown is a virtual world for kids owned by Daimler Chrysler. Kids can explore the world, invite friends for meetings, chat with other users and learn about road safety by playing with a flying robot named Benedikt.</p>\\n\\n<p>Daimler Chrysler created the Mokitown world as a safety initiative to teach kids about traffic safety. The site targets kids aged 8-12 years and teaches them on a variety of safety topics all through playing games and interacting with the Mokitown world. The games allow kids &#8220;to train for difficult situations without exposing them to real risk&#8221;.</p>\\n\\n<p>Kids score points by playing games and can use the points to buy items like mobile phones. Mobile phones allow kids to chat with other MobileKids. </p>\\n\\n<p>Competitors include <a href=\"http://www.crunchbase.com/company/webkinz\" title=\"Webkinz\">Webkinz</a>, <a href=\"http://www.crunchbase.com/company/zwinktopia\" title=\"Zwinktopia\">Zwinktopia</a>, <a href=\"http://www.crunchbase.com/company/barbiegirls\" title=\"Barbie Girls\">Barbie Girls</a> and <a href=\"http://www.crunchbase.com/company/neopets\" title=\"Neopets\">Neopets</a>.</p>',\n",
       " 'image': {'available_sizes': [[[150, 33],\n",
       "    'assets/images/resized/0000/4060/4060v1-max-150x150.png'],\n",
       "   [[200, 44], 'assets/images/resized/0000/4060/4060v1-max-250x250.png'],\n",
       "   [[200, 44], 'assets/images/resized/0000/4060/4060v1-max-450x450.png']],\n",
       "  'attribution': None},\n",
       " 'products': [{'name': 'Mokitown', 'permalink': 'mokitown'}],\n",
       " 'relationships': [],\n",
       " 'competitions': [{'competitor': {'name': 'Club Penguin',\n",
       "    'permalink': 'clubpenguin'}}],\n",
       " 'providerships': [],\n",
       " 'total_money_raised': '$0',\n",
       " 'funding_rounds': [],\n",
       " 'investments': [],\n",
       " 'acquisition': None,\n",
       " 'acquisitions': [],\n",
       " 'offices': {'description': None,\n",
       "  'address1': None,\n",
       "  'address2': None,\n",
       "  'zip_code': None,\n",
       "  'city': None,\n",
       "  'state_code': None,\n",
       "  'country_code': 'USA',\n",
       "  'latitude': 37.09024,\n",
       "  'longitude': -95.712891},\n",
       " 'milestones': [],\n",
       " 'ipo': None,\n",
       " 'video_embeds': [],\n",
       " 'screenshots': [{'available_sizes': [[[150, 76],\n",
       "     'assets/images/resized/0011/7914/117914v2-max-150x150.jpg'],\n",
       "    [[240, 123], 'assets/images/resized/0011/7914/117914v2-max-250x250.jpg'],\n",
       "    [[240, 123], 'assets/images/resized/0011/7914/117914v2-max-450x450.jpg']],\n",
       "   'attribution': None}],\n",
       " 'external_links': [],\n",
       " 'partners': []}"
      ]
     },
     "execution_count": 168,
     "metadata": {},
     "output_type": "execute_result"
    }
   ],
   "source": [
    "listoIndex = list(collG.find({'offices.latitude':{'$ne':None}}))\n",
    "listoIndex[0]"
   ]
  },
  {
   "cell_type": "code",
   "execution_count": 178,
   "metadata": {},
   "outputs": [],
   "source": [
    "def getLocation(elemento):\n",
    "    longitude = elemento['offices']['longitude']\n",
    "    latitude = elemento['offices']['latitude']\n",
    "    loc = {\n",
    "        'type':'Point',\n",
    "        'coordinates':[float(longitude), float(latitude)]\n",
    "    }\n",
    "    return loc"
   ]
  },
  {
   "cell_type": "code",
   "execution_count": 172,
   "metadata": {},
   "outputs": [
    {
     "data": {
      "text/plain": [
       "-95.712891"
      ]
     },
     "execution_count": 172,
     "metadata": {},
     "output_type": "execute_result"
    }
   ],
   "source": [
    "listoIndex[0]['offices']['longitude']"
   ]
  },
  {
   "cell_type": "code",
   "execution_count": 181,
   "metadata": {},
   "outputs": [],
   "source": [
    "for e in range(len(listoIndex)):\n",
    "    value = {'$set':{'location':getLocation(listoIndex[e])}}\n",
    "    collG.update_one(listoIndex[e],value)"
   ]
  },
  {
   "cell_type": "code",
   "execution_count": null,
   "metadata": {},
   "outputs": [],
   "source": []
  },
  {
   "cell_type": "code",
   "execution_count": null,
   "metadata": {},
   "outputs": [],
   "source": [
    "{\"funding_rounds.raised_amount\":{\"$gte\":1000000}},"
   ]
  }
 ],
 "metadata": {
  "kernelspec": {
   "display_name": "Python 3",
   "language": "python",
   "name": "python3"
  },
  "language_info": {
   "codemirror_mode": {
    "name": "ipython",
    "version": 3
   },
   "file_extension": ".py",
   "mimetype": "text/x-python",
   "name": "python",
   "nbconvert_exporter": "python",
   "pygments_lexer": "ipython3",
   "version": "3.6.8"
  }
 },
 "nbformat": 4,
 "nbformat_minor": 2
}
