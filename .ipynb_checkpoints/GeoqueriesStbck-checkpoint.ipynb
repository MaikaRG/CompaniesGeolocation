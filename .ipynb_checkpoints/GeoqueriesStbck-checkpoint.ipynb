{
 "cells": [
  {
   "cell_type": "code",
   "execution_count": 2,
   "metadata": {},
   "outputs": [],
   "source": [
    "from pymongo import MongoClient"
   ]
  },
  {
   "cell_type": "code",
   "execution_count": 3,
   "metadata": {},
   "outputs": [],
   "source": [
    "def connectCollection(database, collection):\n",
    "    client = MongoClient()\n",
    "    db = client[database]\n",
    "    coll = db[collection]\n",
    "    return db, coll"
   ]
  },
  {
   "cell_type": "code",
   "execution_count": 4,
   "metadata": {},
   "outputs": [],
   "source": [
    "dbStb, collStb = connectCollection('getlocation','starbucks')"
   ]
  },
  {
   "cell_type": "code",
   "execution_count": 5,
   "metadata": {},
   "outputs": [],
   "source": [
    "dbMO, collMO = connectCollection('getlocation','myOfficesFarOlds')"
   ]
  },
  {
   "cell_type": "code",
   "execution_count": 7,
   "metadata": {},
   "outputs": [
    {
     "data": {
      "text/plain": [
       "{'_id': ObjectId('5dd658d783ed28c11a0702e5'),\n",
       " 'city': 'Hong Kong',\n",
       " 'name': 'Hong Kong Station',\n",
       " 'country': 'CN',\n",
       " 'longitude': 114.15846252441406,\n",
       " 'latitude': 22.28445053100586,\n",
       " 'store_id': 13,\n",
       " 'location': {'type': 'Point',\n",
       "  'coordinates': [114.15846252441406, 22.28445053100586]}}"
      ]
     },
     "execution_count": 7,
     "metadata": {},
     "output_type": "execute_result"
    }
   ],
   "source": [
    "stbck = list(collStb.find())\n",
    "stbck[0]"
   ]
  },
  {
   "cell_type": "code",
   "execution_count": 59,
   "metadata": {},
   "outputs": [],
   "source": [
    "def getLejosStbck (longitud,latitud):\n",
    "    myOfStb = collStb.find(\n",
    "        {\"location\":\n",
    "         {\"$near\":\n",
    "          {\"$geometry\":\n",
    "           {\"type\":\"Point\",\n",
    "            \"coordinates\": [longitud,latitud]\n",
    "           },\n",
    "           \"$maxDistance\":600,\n",
    "          }\n",
    "         }\n",
    "        }\n",
    "    ).limit(1)\n",
    "    return myOfStb"
   ]
  },
  {
   "cell_type": "code",
   "execution_count": 9,
   "metadata": {},
   "outputs": [
    {
     "data": {
      "text/plain": [
       "10.023246"
      ]
     },
     "execution_count": 9,
     "metadata": {},
     "output_type": "execute_result"
    }
   ],
   "source": [
    "myOff=list(collMO.find())\n",
    "myOff[0]['offices']['longitude']"
   ]
  },
  {
   "cell_type": "code",
   "execution_count": 21,
   "metadata": {},
   "outputs": [
    {
     "data": {
      "text/plain": [
       "[]"
      ]
     },
     "execution_count": 21,
     "metadata": {},
     "output_type": "execute_result"
    }
   ],
   "source": [
    "list(getLejosStbck(float(myOff[2]['offices']['longitude']),float(myOff[2]['offices']['latitude'])))"
   ]
  },
  {
   "cell_type": "code",
   "execution_count": 61,
   "metadata": {},
   "outputs": [],
   "source": [
    "for i in range(len(myOff)):\n",
    "    value = {'$set':{'StbckMasCercano':list(getLejosStbck(float(myOff[i]['offices']['longitude']),float(myOff[i]['offices']['latitude'])))}}\n",
    "    collMO.update_one(myOff[i],value)"
   ]
  },
  {
   "cell_type": "code",
   "execution_count": null,
   "metadata": {},
   "outputs": [],
   "source": [
    "{StbckMasCercano:{$not: {$size:0}}}"
   ]
  }
 ],
 "metadata": {
  "kernelspec": {
   "display_name": "Python 3",
   "language": "python",
   "name": "python3"
  },
  "language_info": {
   "codemirror_mode": {
    "name": "ipython",
    "version": 3
   },
   "file_extension": ".py",
   "mimetype": "text/x-python",
   "name": "python",
   "nbconvert_exporter": "python",
   "pygments_lexer": "ipython3",
   "version": "3.6.8"
  }
 },
 "nbformat": 4,
 "nbformat_minor": 2
}
