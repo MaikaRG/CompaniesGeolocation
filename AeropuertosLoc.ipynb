{
 "cells": [
  {
   "cell_type": "code",
   "execution_count": 1,
   "metadata": {},
   "outputs": [],
   "source": [
    "import carto\n",
    "from pymongo import MongoClient"
   ]
  },
  {
   "cell_type": "code",
   "execution_count": 2,
   "metadata": {},
   "outputs": [],
   "source": [
    "def connectCollection(database, collection):\n",
    "    client = MongoClient()\n",
    "    db = client[database]\n",
    "    coll = db[collection]\n",
    "    return db, coll"
   ]
  },
  {
   "cell_type": "code",
   "execution_count": 3,
   "metadata": {},
   "outputs": [],
   "source": [
    "dbA, collA = connectCollection('getlocation','aeropuertos')"
   ]
  },
  {
   "cell_type": "code",
   "execution_count": 4,
   "metadata": {},
   "outputs": [],
   "source": [
    "def getLocation(elemento):\n",
    "    longitude = elemento['longitude_deg']\n",
    "    latitude = elemento['latitude_deg']\n",
    "    loc = {\n",
    "        'type':'Point',\n",
    "        'coordinates':[float(longitude), float(latitude)]\n",
    "    }\n",
    "    return loc"
   ]
  },
  {
   "cell_type": "code",
   "execution_count": 5,
   "metadata": {},
   "outputs": [
    {
     "data": {
      "text/plain": [
       "{'_id': ObjectId('5dd5a578e49f64fa8f937f98'),\n",
       " 'id': 6523,\n",
       " 'ident': '00A',\n",
       " 'type': 'heliport',\n",
       " 'name': 'Total Rf Heliport',\n",
       " 'latitude_deg': 40.07080078125,\n",
       " 'longitude_deg': -74.93360137939453,\n",
       " 'elevation_ft': 11,\n",
       " 'continent': 'NA',\n",
       " 'iso_country': 'US',\n",
       " 'iso_region': 'US-PA',\n",
       " 'municipality': 'Bensalem',\n",
       " 'scheduled_service': 'no',\n",
       " 'gps_code': '00A',\n",
       " 'iata_code': '',\n",
       " 'local_code': '00A',\n",
       " 'home_link': '',\n",
       " 'wikipedia_link': '',\n",
       " 'keywords': '',\n",
       " 'location': {'type': 'Point',\n",
       "  'coordinates': [-74.93360137939453, 40.07080078125]}}"
      ]
     },
     "execution_count": 5,
     "metadata": {},
     "output_type": "execute_result"
    }
   ],
   "source": [
    "import pandas as pd\n",
    "aero = list(collA.find())\n",
    "aero[0]"
   ]
  },
  {
   "cell_type": "code",
   "execution_count": 7,
   "metadata": {},
   "outputs": [],
   "source": [
    "for e in range(len(aero)):\n",
    "    value = {'$set':{'location':getLocation(aero[e])}}\n",
    "    collA.update_one(aero[e],value)"
   ]
  },
  {
   "cell_type": "code",
   "execution_count": null,
   "metadata": {},
   "outputs": [],
   "source": [
    "from pymongo import MongoClient"
   ]
  },
  {
   "cell_type": "code",
   "execution_count": 8,
   "metadata": {},
   "outputs": [],
   "source": [
    "def connectCollection(database, collection):\n",
    "    client = MongoClient()\n",
    "    db = client[database]\n",
    "    coll = db[collection]\n",
    "    return db, coll"
   ]
  },
  {
   "cell_type": "code",
   "execution_count": 9,
   "metadata": {},
   "outputs": [],
   "source": [
    "db, coll = connectCollection('getlocation','aeros')"
   ]
  },
  {
   "cell_type": "code",
   "execution_count": null,
   "metadata": {},
   "outputs": [],
   "source": [
    "import json\n",
    "from bson import json_util\n",
    "pipeline = [\n",
    "    {'$project':{'_id':0}},\n",
    "    {\"$unwind\": \"$features\"}]\n",
    "a = list(coll.aggregate(pipeline))\n",
    "len(a)"
   ]
  },
  {
   "cell_type": "code",
   "execution_count": null,
   "metadata": {},
   "outputs": [],
   "source": [
    "with open('AeroFinal.json', 'w') as file:\n",
    "    json.dump(a,file)"
   ]
  },
  {
   "cell_type": "code",
   "execution_count": 11,
   "metadata": {},
   "outputs": [],
   "source": [
    "dbAG, collAG = connectCollection('getlocation','AeroGeo')"
   ]
  },
  {
   "cell_type": "code",
   "execution_count": null,
   "metadata": {},
   "outputs": [],
   "source": [
    "pipeNew = [\n",
    "    {'$project':{'_id':0}},\n",
    "    {\"$match\": {\"features.geometry\":{\"$ne\":None}}}]\n",
    "a = list(collAG.aggregate(pipeNew))\n",
    "len(a)"
   ]
  },
  {
   "cell_type": "code",
   "execution_count": null,
   "metadata": {},
   "outputs": [],
   "source": [
    "with open('AeroFinal.json', 'w') as file:\n",
    "    json.dump(a,file)"
   ]
  },
  {
   "cell_type": "code",
   "execution_count": 12,
   "metadata": {},
   "outputs": [
    {
     "data": {
      "text/plain": [
       "6665"
      ]
     },
     "execution_count": 12,
     "metadata": {},
     "output_type": "execute_result"
    }
   ],
   "source": [
    "a = list(collAG.find({\"features.geometry\":{\"$ne\":None}}))\n",
    "len(a)"
   ]
  }
 ],
 "metadata": {
  "kernelspec": {
   "display_name": "Python 3",
   "language": "python",
   "name": "python3"
  },
  "language_info": {
   "codemirror_mode": {
    "name": "ipython",
    "version": 3
   },
   "file_extension": ".py",
   "mimetype": "text/x-python",
   "name": "python",
   "nbconvert_exporter": "python",
   "pygments_lexer": "ipython3",
   "version": "3.6.8"
  }
 },
 "nbformat": 4,
 "nbformat_minor": 2
}
