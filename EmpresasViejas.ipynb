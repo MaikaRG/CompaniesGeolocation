{
 "cells": [
  {
   "cell_type": "code",
   "execution_count": 1,
   "metadata": {},
   "outputs": [],
   "source": [
    "from pymongo import MongoClient"
   ]
  },
  {
   "cell_type": "code",
   "execution_count": 2,
   "metadata": {},
   "outputs": [],
   "source": [
    "def connectCollection(database, collection):\n",
    "    client = MongoClient()\n",
    "    db = client[database]\n",
    "    coll = db[collection]\n",
    "    return db, coll"
   ]
  },
  {
   "cell_type": "code",
   "execution_count": 10,
   "metadata": {},
   "outputs": [],
   "source": [
    "db, coll = connectCollection('companies','companies')"
   ]
  },
  {
   "cell_type": "code",
   "execution_count": 23,
   "metadata": {},
   "outputs": [
    {
     "data": {
      "text/plain": [
       "8221"
      ]
     },
     "execution_count": 23,
     "metadata": {},
     "output_type": "execute_result"
    }
   ],
   "source": [
    "from bson import json_util\n",
    "import json\n",
    "pipeline = [\n",
    "    {'$project':{'_id':0}},\n",
    "    {\"$unwind\": \"$offices\"},\n",
    "    {\"$match\":{\"$and\": [{\"founded_year\":{\"$lt\":2009}},\n",
    "            {'deadpooled_year':None},\n",
    "            {\"offices.latitude\":{'$ne':None}}]}}]\n",
    "a = list(coll.aggregate(pipeline))\n",
    "len(a)"
   ]
  },
  {
   "cell_type": "code",
   "execution_count": 22,
   "metadata": {},
   "outputs": [],
   "source": [
    "with open('oldCompanies.json', 'w') as file:\n",
    "    json.dump(a,file,default=json_util.default)"
   ]
  },
  {
   "cell_type": "code",
   "execution_count": 25,
   "metadata": {},
   "outputs": [],
   "source": [
    "dbO, collO = connectCollection('getlocation','oldOffices')"
   ]
  },
  {
   "cell_type": "code",
   "execution_count": 29,
   "metadata": {},
   "outputs": [
    {
     "data": {
      "text/plain": [
       "{'_id': ObjectId('5dd665f49add069e82a88040'),\n",
       " 'name': 'Postini',\n",
       " 'permalink': 'postini',\n",
       " 'crunchbase_url': 'http://www.crunchbase.com/company/postini',\n",
       " 'homepage_url': 'http://postini.com',\n",
       " 'blog_url': '',\n",
       " 'blog_feed_url': '',\n",
       " 'twitter_username': None,\n",
       " 'category_code': 'web',\n",
       " 'number_of_employees': None,\n",
       " 'founded_year': 1999,\n",
       " 'founded_month': 6,\n",
       " 'founded_day': 2,\n",
       " 'deadpooled_year': None,\n",
       " 'deadpooled_month': None,\n",
       " 'deadpooled_day': None,\n",
       " 'deadpooled_url': None,\n",
       " 'tag_list': '',\n",
       " 'alias_list': None,\n",
       " 'email_address': '',\n",
       " 'phone_number': '888.584.3150',\n",
       " 'description': None,\n",
       " 'created_at': 'Fri Jun 08 12:19:51 UTC 2007',\n",
       " 'updated_at': 'Sat Aug 13 18:02:34 UTC 2011',\n",
       " 'overview': '<p>Postini focuses on two main issues: security and compliance. Postini states that it handles more than 1 billion messages everyday and protects more than 35,000 businesses worldwide.</p>\\n\\n<p>Postini offers solutions that protect your company from malicious internet attacks. The Postini Communications Suite eliminates unwanted content from email, instant messaging, and the web. Postini aims to increase business productivity. It will also automatically encrypt senstive messages between you and business partners.</p>\\n\\n<p>Postini currently holds two patents in the area of security and compliance. It was acquired by <a href=\"/company/google\" title=\"Google\" rel=\"nofollow\">Google</a> in 2007 and now operates as a subsidiary.</p>',\n",
       " 'image': {'available_sizes': [[[150, 61],\n",
       "    'assets/images/resized/0000/3697/3697v1-max-150x150.png'],\n",
       "   [[183, 75], 'assets/images/resized/0000/3697/3697v1-max-250x250.png'],\n",
       "   [[183, 75], 'assets/images/resized/0000/3697/3697v1-max-450x450.png']],\n",
       "  'attribution': None},\n",
       " 'products': [{'name': 'Postini Solutions', 'permalink': 'postini-solutions'}],\n",
       " 'relationships': [{'is_past': False,\n",
       "   'title': 'Board',\n",
       "   'person': {'first_name': 'Scott',\n",
       "    'last_name': 'Petry',\n",
       "    'permalink': 'scott-petry'}},\n",
       "  {'is_past': None,\n",
       "   'title': 'Board',\n",
       "   'person': {'first_name': 'Don',\n",
       "    'last_name': 'Beck',\n",
       "    'permalink': 'don-beck'}},\n",
       "  {'is_past': None,\n",
       "   'title': 'Board',\n",
       "   'person': {'first_name': 'Murray',\n",
       "    'last_name': 'J. Demo',\n",
       "    'permalink': 'murray-j-demo'}},\n",
       "  {'is_past': False,\n",
       "   'title': 'Director',\n",
       "   'person': {'first_name': 'Harrison',\n",
       "    'last_name': 'B. Miller',\n",
       "    'permalink': 'harrison-b-miller'}},\n",
       "  {'is_past': True,\n",
       "   'title': 'CFO',\n",
       "   'person': {'first_name': 'Murray',\n",
       "    'last_name': 'J. Demo',\n",
       "    'permalink': 'murray-j-demo'}},\n",
       "  {'is_past': True,\n",
       "   'title': 'VP Marketing',\n",
       "   'person': {'first_name': 'Steve',\n",
       "    'last_name': 'Kahan',\n",
       "    'permalink': 'steve-kahan'}},\n",
       "  {'is_past': True,\n",
       "   'title': 'SVP Sales and Marketing',\n",
       "   'person': {'first_name': 'Mike',\n",
       "    'last_name': 'Purcell',\n",
       "    'permalink': 'mike-purcell'}},\n",
       "  {'is_past': True,\n",
       "   'title': 'Executive Vice President',\n",
       "   'person': {'first_name': 'Jocelyn',\n",
       "    'last_name': 'Ding',\n",
       "    'permalink': 'jocelyn-ding'}},\n",
       "  {'is_past': True,\n",
       "   'title': 'Board',\n",
       "   'person': {'first_name': 'Quentin',\n",
       "    'last_name': 'Gallivan',\n",
       "    'permalink': 'quentin-gallivan'}},\n",
       "  {'is_past': True,\n",
       "   'title': 'Sr. EMEA Operations & Tech Support Manager',\n",
       "   'person': {'first_name': 'James',\n",
       "    'last_name': 'Chivers',\n",
       "    'permalink': 'james-chivers'}},\n",
       "  {'is_past': True,\n",
       "   'title': 'VP Client Services',\n",
       "   'person': {'first_name': 'Mark',\n",
       "    'last_name': 'Fishwick',\n",
       "    'permalink': 'mark-fishwick'}},\n",
       "  {'is_past': True,\n",
       "   'title': 'Board Member',\n",
       "   'person': {'first_name': 'Raman',\n",
       "    'last_name': 'Khanna',\n",
       "    'permalink': 'raman-khanna'}},\n",
       "  {'is_past': True,\n",
       "   'title': 'Board Member',\n",
       "   'person': {'first_name': 'Ryan',\n",
       "    'last_name': 'McIntyre',\n",
       "    'permalink': 'ryan-mcintyre'}},\n",
       "  {'is_past': True,\n",
       "   'title': 'Investor',\n",
       "   'person': {'first_name': 'John',\n",
       "    'last_name': 'Johnston',\n",
       "    'permalink': 'john-johnston'}},\n",
       "  {'is_past': True,\n",
       "   'title': 'Board Member',\n",
       "   'person': {'first_name': 'Roger',\n",
       "    'last_name': 'S. Siboni',\n",
       "    'permalink': 'roger-s-siboni'}},\n",
       "  {'is_past': True,\n",
       "   'title': 'Channel Sales',\n",
       "   'person': {'first_name': 'Al',\n",
       "    'last_name': 'Powell',\n",
       "    'permalink': 'al-powell'}}],\n",
       " 'competitions': [{'competitor': {'name': 'RescueTime',\n",
       "    'permalink': 'rescuetime'}},\n",
       "  {'competitor': {'name': 'MailBlocks', 'permalink': 'mailblocks'}},\n",
       "  {'competitor': {'name': 'Suzerein Solutions',\n",
       "    'permalink': 'suzerein-solutions'}}],\n",
       " 'providerships': [],\n",
       " 'total_money_raised': '$0',\n",
       " 'funding_rounds': [],\n",
       " 'investments': [],\n",
       " 'acquisition': {'price_amount': 625000000,\n",
       "  'price_currency_code': 'USD',\n",
       "  'term_code': 'cash',\n",
       "  'source_url': 'http://www.techcrunch.com/2007/07/09/google-acquires-postini-for-625-million/',\n",
       "  'source_description': 'http://www.techcrunch.com/2007/07/09/google-acquires-postini-for-625-million/',\n",
       "  'acquired_year': 2007,\n",
       "  'acquired_month': 7,\n",
       "  'acquired_day': 9,\n",
       "  'acquiring_company': {'name': 'Google', 'permalink': 'google'}},\n",
       " 'acquisitions': [],\n",
       " 'offices': {'description': None,\n",
       "  'address1': '959 Skyway Road, Suite 200',\n",
       "  'address2': None,\n",
       "  'zip_code': '94070',\n",
       "  'city': 'San Carlos',\n",
       "  'state_code': 'CA',\n",
       "  'country_code': 'USA',\n",
       "  'latitude': 37.506885,\n",
       "  'longitude': -122.247573},\n",
       " 'milestones': [],\n",
       " 'ipo': None,\n",
       " 'video_embeds': [],\n",
       " 'screenshots': [],\n",
       " 'external_links': [],\n",
       " 'partners': []}"
      ]
     },
     "execution_count": 29,
     "metadata": {},
     "output_type": "execute_result"
    }
   ],
   "source": [
    "old = list(collO.find())\n",
    "old[0]"
   ]
  },
  {
   "cell_type": "code",
   "execution_count": 30,
   "metadata": {},
   "outputs": [],
   "source": [
    "def getLocation(elemento):\n",
    "    longitude = elemento['offices']['longitude']\n",
    "    latitude = elemento['offices']['latitude']\n",
    "    loc = {\n",
    "        'type':'Point',\n",
    "        'coordinates':[float(longitude), float(latitude)]\n",
    "    }\n",
    "    return loc"
   ]
  },
  {
   "cell_type": "code",
   "execution_count": 32,
   "metadata": {},
   "outputs": [],
   "source": [
    "for e in range(len(old)):\n",
    "    value = {'$set':{'location':getLocation(old[e])}}\n",
    "    collO.update_one(old[e],value)"
   ]
  }
 ],
 "metadata": {
  "kernelspec": {
   "display_name": "Python 3",
   "language": "python",
   "name": "python3"
  },
  "language_info": {
   "codemirror_mode": {
    "name": "ipython",
    "version": 3
   },
   "file_extension": ".py",
   "mimetype": "text/x-python",
   "name": "python",
   "nbconvert_exporter": "python",
   "pygments_lexer": "ipython3",
   "version": "3.6.8"
  }
 },
 "nbformat": 4,
 "nbformat_minor": 2
}
