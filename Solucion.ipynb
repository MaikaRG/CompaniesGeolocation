{
 "cells": [
  {
   "cell_type": "markdown",
   "metadata": {},
   "source": [
    "## LA EMPRESA DEBERIA UBICARSE EN ALEMANIA"
   ]
  },
  {
   "cell_type": "markdown",
   "metadata": {},
   "source": [
    "De las 8 opciones que nos quedaban, después del scrapeo de la pagina: 'https://es.numbeo.com/calidad-de-vida/clasificaciones-por-pa%C3%ADs' podemos comprobar que Alemania es el pais con un indice de calidad de vida mayor"
   ]
  },
  {
   "cell_type": "markdown",
   "metadata": {},
   "source": [
    "- Alemania 184,30\n",
    "- Suecia 180,52\n",
    "- Estados Unidos 176,77\n",
    "- Reino Unido 166,73\n",
    "- Polonia 145,90\n",
    "- México 122,44   "
   ]
  },
  {
   "cell_type": "code",
   "execution_count": 2,
   "metadata": {},
   "outputs": [],
   "source": [
    "import folium\n",
    "from pymongo import MongoClient"
   ]
  },
  {
   "cell_type": "code",
   "execution_count": 3,
   "metadata": {},
   "outputs": [],
   "source": [
    "def connectCollection(database, collection):\n",
    "    client = MongoClient()\n",
    "    db = client[database]\n",
    "    coll = db[collection]\n",
    "    return db, coll"
   ]
  },
  {
   "cell_type": "code",
   "execution_count": 4,
   "metadata": {},
   "outputs": [],
   "source": [
    "dbDef, collDef = connectCollection('Opciones','misOpciones')"
   ]
  },
  {
   "cell_type": "code",
   "execution_count": 5,
   "metadata": {},
   "outputs": [
    {
     "data": {
      "text/plain": [
       "[54.703145, -1.574948]"
      ]
     },
     "execution_count": 5,
     "metadata": {},
     "output_type": "execute_result"
    }
   ],
   "source": [
    "x=list(collDef.find())\n",
    "len(x)\n",
    "x[0]['location']['coordinates'][::-1]"
   ]
  },
  {
   "cell_type": "code",
   "execution_count": 16,
   "metadata": {},
   "outputs": [
    {
     "data": {
      "text/html": [
       "<div style=\"width:100%;\"><div style=\"position:relative;width:100%;height:0;padding-bottom:60%;\"><iframe src=\"data:text/html;charset=utf-8;base64,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\" style=\"position:absolute;width:100%;height:100%;left:0;top:0;border:none !important;\" allowfullscreen webkitallowfullscreen mozallowfullscreen></iframe></div></div>"
      ],
      "text/plain": [
       "<folium.folium.Map at 0x7fcc5ca14240>"
      ]
     },
     "execution_count": 16,
     "metadata": {},
     "output_type": "execute_result"
    }
   ],
   "source": [
    "map_city=folium.Map(location=[51.9630088,7.6267552],zoom_start=12)\n",
    "folium.Marker([51.9630088,7.6267552],popup='Office',\n",
    "                    radius=2,\n",
    "                    icon=folium.Icon(icon='briefcase',color='red'), \n",
    "                   ).add_to(map_city)\n",
    "folium.Marker([51.94444274902344,7.773889064788818],popup='Aerport',\n",
    "                    radius=2,\n",
    "                    icon=folium.Icon(icon='plane',color='blue'), \n",
    "                   ).add_to(map_city)\n",
    "folium.Marker([51.95945739746094,7.628848075866699],popup='Starbuck',\n",
    "                    radius=2,\n",
    "                    icon=folium.Icon(icon='glass',color='purple'), \n",
    "                   ).add_to(map_city)\n",
    "    \n",
    "map_city"
   ]
  },
  {
   "cell_type": "markdown",
   "metadata": {},
   "source": [
    "location=[51.9630088,7.6267552]"
   ]
  },
  {
   "cell_type": "code",
   "execution_count": 18,
   "metadata": {},
   "outputs": [],
   "source": [
    "map_city.save('mapasolucion.html')"
   ]
  }
 ],
 "metadata": {
  "kernelspec": {
   "display_name": "Python 3",
   "language": "python",
   "name": "python3"
  },
  "language_info": {
   "codemirror_mode": {
    "name": "ipython",
    "version": 3
   },
   "file_extension": ".py",
   "mimetype": "text/x-python",
   "name": "python",
   "nbconvert_exporter": "python",
   "pygments_lexer": "ipython3",
   "version": "3.6.8"
  }
 },
 "nbformat": 4,
 "nbformat_minor": 2
}
