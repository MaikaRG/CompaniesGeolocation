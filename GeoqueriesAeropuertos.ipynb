{
 "cells": [
  {
   "cell_type": "code",
   "execution_count": 4,
   "metadata": {},
   "outputs": [],
   "source": [
    "from pymongo import MongoClient"
   ]
  },
  {
   "cell_type": "code",
   "execution_count": 5,
   "metadata": {},
   "outputs": [],
   "source": [
    "def connectCollection(database, collection):\n",
    "    client = MongoClient()\n",
    "    db = client[database]\n",
    "    coll = db[collection]\n",
    "    return db, coll"
   ]
  },
  {
   "cell_type": "code",
   "execution_count": 6,
   "metadata": {},
   "outputs": [],
   "source": [
    "dbAer, collAer = connectCollection('getlocation','aeropuertos')"
   ]
  },
  {
   "cell_type": "code",
   "execution_count": 7,
   "metadata": {},
   "outputs": [],
   "source": [
    "dbMO, collMO = connectCollection('getlocation','myOfficesFarOlds')"
   ]
  },
  {
   "cell_type": "code",
   "execution_count": 8,
   "metadata": {},
   "outputs": [
    {
     "data": {
      "text/plain": [
       "{'_id': ObjectId('5dd5a578e49f64fa8f937f98'),\n",
       " 'id': 6523,\n",
       " 'ident': '00A',\n",
       " 'type': 'heliport',\n",
       " 'name': 'Total Rf Heliport',\n",
       " 'latitude_deg': 40.07080078125,\n",
       " 'longitude_deg': -74.93360137939453,\n",
       " 'elevation_ft': 11,\n",
       " 'continent': 'NA',\n",
       " 'iso_country': 'US',\n",
       " 'iso_region': 'US-PA',\n",
       " 'municipality': 'Bensalem',\n",
       " 'scheduled_service': 'no',\n",
       " 'gps_code': '00A',\n",
       " 'iata_code': '',\n",
       " 'local_code': '00A',\n",
       " 'home_link': '',\n",
       " 'wikipedia_link': '',\n",
       " 'keywords': '',\n",
       " 'location': {'type': 'Point',\n",
       "  'coordinates': [-74.93360137939453, 40.07080078125]}}"
      ]
     },
     "execution_count": 8,
     "metadata": {},
     "output_type": "execute_result"
    }
   ],
   "source": [
    "aer = list(collAer.find())\n",
    "aer[0]"
   ]
  },
  {
   "cell_type": "code",
   "execution_count": 9,
   "metadata": {},
   "outputs": [],
   "source": [
    "def getLejosAero (longitud,latitud):\n",
    "    myOfAer = collAer.find(\n",
    "        {\"location\":\n",
    "         {\"$near\":\n",
    "          {\"$geometry\":\n",
    "           {\"type\":\"Point\",\n",
    "            \"coordinates\": [longitud,latitud]\n",
    "           },\n",
    "           \"$maxDistance\":30000,\n",
    "          }\n",
    "         }\n",
    "        }\n",
    "    ).limit(1)\n",
    "    return myOfAer"
   ]
  },
  {
   "cell_type": "code",
   "execution_count": 10,
   "metadata": {},
   "outputs": [
    {
     "data": {
      "text/plain": [
       "10.023246"
      ]
     },
     "execution_count": 10,
     "metadata": {},
     "output_type": "execute_result"
    }
   ],
   "source": [
    "myOff=list(collMO.find())\n",
    "myOff[0]['offices']['longitude']"
   ]
  },
  {
   "cell_type": "code",
   "execution_count": 11,
   "metadata": {},
   "outputs": [
    {
     "data": {
      "text/plain": [
       "[{'_id': ObjectId('5dd5a57ae49f64fa8f94447d'),\n",
       "  'id': 328919,\n",
       "  'ident': 'US-0938',\n",
       "  'type': 'heliport',\n",
       "  'name': 'Advocate Sherman Hospital Heliport',\n",
       "  'latitude_deg': 42.072178,\n",
       "  'longitude_deg': -88.329757,\n",
       "  'elevation_ft': 905,\n",
       "  'continent': 'NA',\n",
       "  'iso_country': 'US',\n",
       "  'iso_region': 'US-IL',\n",
       "  'municipality': 'Elgin',\n",
       "  'scheduled_service': 'no',\n",
       "  'gps_code': '25LL',\n",
       "  'iata_code': '',\n",
       "  'local_code': '25LL',\n",
       "  'home_link': '',\n",
       "  'wikipedia_link': '',\n",
       "  'keywords': 'Sherman Hospital Randall Road',\n",
       "  'location': {'type': 'Point', 'coordinates': [-88.329757, 42.072178]}}]"
      ]
     },
     "execution_count": 11,
     "metadata": {},
     "output_type": "execute_result"
    }
   ],
   "source": [
    "list(getLejosAero(float(myOff[1]['offices']['longitude']),float(myOff[1]['offices']['latitude'])))"
   ]
  },
  {
   "cell_type": "code",
   "execution_count": 12,
   "metadata": {},
   "outputs": [],
   "source": [
    "for i in range(len(myOff)):\n",
    "    value = {'$set':{'aeropuertoMasCercano':list(getLejosAero(float(myOff[i]['offices']['longitude']),float(myOff[i]['offices']['latitude'])))}}\n",
    "    collMO.update_one(myOff[i],value)"
   ]
  }
 ],
 "metadata": {
  "kernelspec": {
   "display_name": "Python 3",
   "language": "python",
   "name": "python3"
  },
  "language_info": {
   "codemirror_mode": {
    "name": "ipython",
    "version": 3
   },
   "file_extension": ".py",
   "mimetype": "text/x-python",
   "name": "python",
   "nbconvert_exporter": "python",
   "pygments_lexer": "ipython3",
   "version": "3.6.8"
  }
 },
 "nbformat": 4,
 "nbformat_minor": 2
}
